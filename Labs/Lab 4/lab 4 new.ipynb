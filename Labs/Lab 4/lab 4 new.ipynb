{
 "cells": [
  {
   "cell_type": "code",
   "execution_count": 1,
   "metadata": {},
   "outputs": [],
   "source": [
    "import numpy\n",
    "import numpy as np\n",
    "import matplotlib.pyplot as plt\n",
    "%matplotlib inline"
   ]
  },
  {
   "cell_type": "code",
   "execution_count": 2,
   "metadata": {},
   "outputs": [],
   "source": [
    "from pandas import *\n",
    "import torch\n",
    "import torchvision\n",
    "import torch.nn as nn\n",
    "import torch.nn.functional as F\n",
    "import torch.optim as optim\n",
    "from torchvision import datasets, transforms\n",
    "from torch.autograd import Variable"
   ]
  },
  {
   "cell_type": "code",
   "execution_count": 108,
   "metadata": {},
   "outputs": [],
   "source": [
    "n_epochs = 20\n",
    "batch_size_train = 64\n",
    "batch_size_test = 100\n",
    "learning_rate = 0.01\n",
    "momentum = 0.5\n"
   ]
  },
  {
   "cell_type": "code",
   "execution_count": 109,
   "metadata": {},
   "outputs": [],
   "source": [
    "Trans=torchvision.transforms.Compose([\n",
    "                               torchvision.transforms.ToTensor(),\n",
    "                               torchvision.transforms.Normalize(\n",
    "                                 (0.1307,), (0.3081,))\n",
    "                             ])\n",
    "train_set = torchvision.datasets.MNIST(root='mnist_data', train=True, download=True,\n",
    "                             transform=Trans)\n",
    "train_loader = torch.utils.data.DataLoader(train_set, batch_size=batch_size_train, shuffle = True)\n",
    "\n",
    "test_set = torchvision.datasets.MNIST(root='mnist_data', train=False, download=True,\n",
    "                             transform=Trans)\n",
    "test_loader = torch.utils.data.DataLoader(test_set, batch_size=batch_size_test, shuffle = False)"
   ]
  },
  {
   "cell_type": "code",
   "execution_count": 110,
   "metadata": {},
   "outputs": [
    {
     "name": "stdout",
     "output_type": "stream",
     "text": [
      "<class 'torch.Tensor'>\n",
      "torch.Size([64, 1, 28, 28])\n",
      "torch.Size([64])\n"
     ]
    }
   ],
   "source": [
    "training_data = enumerate(train_loader)\n",
    "batch_idx, (images, labels) = next(training_data)\n",
    "print(type(images)) # Checking the datatype \n",
    "print(images.shape) # the size of the image\n",
    "print(labels.shape) # the size of the labels"
   ]
  },
  {
   "cell_type": "code",
   "execution_count": 111,
   "metadata": {},
   "outputs": [
    {
     "data": {
      "text/plain": [
       "Text(0.5, 1.0, 'label 1')"
      ]
     },
     "execution_count": 111,
     "metadata": {},
     "output_type": "execute_result"
    },
    {
     "data": {
      "image/png": "[encoded data removed]",
      "text/plain": [
       "<Figure size 432x288 with 1 Axes>"
      ]
     },
     "metadata": {
      "needs_background": "light"
     },
     "output_type": "display_data"
    }
   ],
   "source": [
    "fig = plt.figure()\n",
    "plt.imshow(images[62][0], cmap='gray')\n",
    "plt.title(\"label {}\".format(labels[62]))"
   ]
  },
  {
   "cell_type": "code",
   "execution_count": 112,
   "metadata": {},
   "outputs": [],
   "source": [
    "class myCNN(nn.Module):\n",
    "    def __init__(self,kernelSize):\n",
    "        super(myCNN, self).__init__()\n",
    "        self.conv1 = nn.Conv2d(in_channels=1, out_channels=6,kernel_size=kernelSize)\n",
    "        self.pool = nn.MaxPool2d(kernel_size=kernelSize)\n",
    "        self.fc1 = nn.Linear(in_features=6*6*6, out_features=128)          \n",
    "        self.fc2 = nn.Linear(in_features=128, out_features=64)\n",
    "        self.output = nn.Linear(64, 10)\n",
    "      \n",
    "    def forward(self, x):\n",
    "        x = F.relu(self.conv1(x))\n",
    "        x = F.max_pool2d(x, 2, 2)\n",
    "        x = F.max_pool2d(x, 2, 2)\n",
    "        x = x.view(-1, 6*6*6)\n",
    "        x = F.relu(self.fc1(x))\n",
    "        x = F.relu(self.fc2(x))\n",
    "        x = self.output(x)\n",
    "        return x \n",
    "\n",
    "#     def forward(self, x):\n",
    "#         # I filled in the first two layers\n",
    "#         # do first x=self.conv1(x)\n",
    "#         self.features=F.relu(self.conv1(x))\n",
    "#         x = self.pool(self.features)\n",
    "#         #we need to flatten the whole thing\n",
    "# #         a = x.view(-1, numpy.product(x.shape))\n",
    "# #         x = x.view(x.size(0),-1)\n",
    "#         x = x.view(-1, 32*13*13)\n",
    "#         a = self.fc1(x)\n",
    "#         a = F.relu(a)\n",
    "# #         x = F.relu(self.fc1(x))\n",
    "#         a = self.fc2(a)\n",
    "# #         a = F.log_softmax(a,dim=1)\n",
    "# #         a = self.output(a)\n",
    "#         #code is missing here!\n",
    "#         return a"
   ]
  },
  {
   "cell_type": "code",
   "execution_count": 113,
   "metadata": {},
   "outputs": [
    {
     "data": {
      "text/plain": [
       "myCNN(\n",
       "  (conv1): Conv2d(1, 6, kernel_size=(2, 2), stride=(1, 1))\n",
       "  (pool): MaxPool2d(kernel_size=2, stride=2, padding=0, dilation=1, ceil_mode=False)\n",
       "  (fc1): Linear(in_features=216, out_features=128, bias=True)\n",
       "  (fc2): Linear(in_features=128, out_features=64, bias=True)\n",
       "  (output): Linear(in_features=64, out_features=10, bias=True)\n",
       ")"
      ]
     },
     "execution_count": 113,
     "metadata": {},
     "output_type": "execute_result"
    }
   ],
   "source": [
    "model = myCNN(2) \n",
    "model"
   ]
  },
  {
   "cell_type": "code",
   "execution_count": 114,
   "metadata": {},
   "outputs": [],
   "source": [
    "def train_test():\n",
    "    \n",
    "    criterion = nn.CrossEntropyLoss()\n",
    "    optimizer = torch.optim.Adam(model.parameters(), lr = 0.01)\n",
    "    train_acc = []\n",
    "    train_final_acc = []\n",
    "    test_acc = []\n",
    "    train_counter=[]\n",
    "\n",
    "    epochs = 4\n",
    "    test_counter = [i*len(train_loader.dataset) for i in range(epochs)]\n",
    "\n",
    "    for e in range(epochs):\n",
    "\n",
    "        train_cor = 0.0 \n",
    "        train_b_l = 0.0\n",
    "        train_e_l = 0.0\n",
    "        val_cor = 0.0\n",
    "        val_e_l = 0.0\n",
    "\n",
    "        for batch_idx, data in enumerate(train_loader, start=1):\n",
    "            inputs = data[0]\n",
    "            labels = data[1]\n",
    "            outputs = model(inputs)\n",
    "            loss = criterion(outputs, labels)\n",
    "            optimizer.zero_grad()\n",
    "            loss.backward()\n",
    "            optimizer.step()\n",
    "            \n",
    "            _, preds = torch.max(outputs, 1)\n",
    "            train_b_l += loss.item()\n",
    "\n",
    "            train_cor += (preds == labels).sum().item()\n",
    "\n",
    "            if batch_idx % 100 == 0:\n",
    "                print('Train Epoch: {} [{}/{} ({:.0f}%)] Loss: {:.2f}'.format(\n",
    "                        e + 1 , \n",
    "                        batch_idx * len(data[0]), \n",
    "                        len(train_loader.dataset),\n",
    "                        100.* batch_idx * len(data[0]) / len(train_loader.dataset), \n",
    "                        train_b_l / 100 ))\n",
    "                train_counter.append(\n",
    "                 (batch_idx*64) + ((epochs)*len(train_loader.dataset)))\n",
    "                tr_acc= 100.* batch_idx * len(data[0]) / len(train_loader.dataset)\n",
    "                train_acc.append(tr_acc)\n",
    "               \n",
    "                train_e_l += train_b_l\n",
    "              \n",
    "                train_b_l = 0.0\n",
    "        else:\n",
    "            with torch.no_grad():\n",
    "                for val_data in test_loader:\n",
    "                    val_inputs = val_data[0]\n",
    "                    val_labels = val_data[1]\n",
    "                    val_outputs = model(val_inputs)\n",
    "                    val_loss = criterion(val_outputs, val_labels)\n",
    "\n",
    "                    _, val_preds = torch.max(val_outputs, 1)\n",
    "                    val_e_l += val_loss.item()\n",
    "                    val_cor += (val_preds == val_labels).sum().item()\n",
    "\n",
    "\n",
    "            train_acc = 100. * train_cor / len(train_loader.dataset)\n",
    "            train_f_acc.append(train_acc)\n",
    "            train_e_l /= batch_idx\n",
    "\n",
    "            val_acc = 100. * val_cor / len(test_loader.dataset)\n",
    "            test_acc.append(val_acc)\n",
    "            val_e_l /= batch_idx\n",
    "\n",
    "            print('Test set: Accuracy: {}/{} ({:.0f}%), Average Loss: {:.2f}'.format(\n",
    "                    val_cor, len(test_loader.dataset),\n",
    "                    val_acc, val_e_l))\n",
    "    return train_f_acc, test_acc"
   ]
  },
  {
   "cell_type": "markdown",
   "metadata": {},
   "source": [
    "The above Train_test function calculates my accuracy and loss"
   ]
  },
  {
   "cell_type": "code",
   "execution_count": 106,
   "metadata": {
    "scrolled": true
   },
   "outputs": [
    {
     "name": "stdout",
     "output_type": "stream",
     "text": [
      "Train Epoch: 1 [6400/60000 (11%)] Loss: 0.76\n",
      "Train Epoch: 1 [12800/60000 (21%)] Loss: 0.31\n",
      "Train Epoch: 1 [19200/60000 (32%)] Loss: 0.25\n",
      "Train Epoch: 1 [25600/60000 (43%)] Loss: 0.21\n",
      "Train Epoch: 1 [32000/60000 (53%)] Loss: 0.17\n",
      "Train Epoch: 1 [38400/60000 (64%)] Loss: 0.17\n",
      "Train Epoch: 1 [44800/60000 (75%)] Loss: 0.15\n",
      "Train Epoch: 1 [51200/60000 (85%)] Loss: 0.15\n",
      "Train Epoch: 1 [57600/60000 (96%)] Loss: 0.13\n",
      "Test set: Accuracy: 9535.0/10000 (95%), Average Loss: 0.02\n",
      "Train Epoch: 2 [6400/60000 (11%)] Loss: 0.13\n",
      "Train Epoch: 2 [12800/60000 (21%)] Loss: 0.12\n",
      "Train Epoch: 2 [19200/60000 (32%)] Loss: 0.11\n",
      "Train Epoch: 2 [25600/60000 (43%)] Loss: 0.12\n",
      "Train Epoch: 2 [32000/60000 (53%)] Loss: 0.12\n",
      "Train Epoch: 2 [38400/60000 (64%)] Loss: 0.12\n",
      "Train Epoch: 2 [44800/60000 (75%)] Loss: 0.12\n",
      "Train Epoch: 2 [51200/60000 (85%)] Loss: 0.13\n",
      "Train Epoch: 2 [57600/60000 (96%)] Loss: 0.12\n",
      "Test set: Accuracy: 9676.0/10000 (97%), Average Loss: 0.01\n",
      "Train Epoch: 3 [6400/60000 (11%)] Loss: 0.10\n",
      "Train Epoch: 3 [12800/60000 (21%)] Loss: 0.10\n",
      "Train Epoch: 3 [19200/60000 (32%)] Loss: 0.10\n",
      "Train Epoch: 3 [25600/60000 (43%)] Loss: 0.09\n",
      "Train Epoch: 3 [32000/60000 (53%)] Loss: 0.10\n",
      "Train Epoch: 3 [38400/60000 (64%)] Loss: 0.10\n",
      "Train Epoch: 3 [44800/60000 (75%)] Loss: 0.10\n",
      "Train Epoch: 3 [51200/60000 (85%)] Loss: 0.10\n",
      "Train Epoch: 3 [57600/60000 (96%)] Loss: 0.10\n",
      "Test set: Accuracy: 9725.0/10000 (97%), Average Loss: 0.01\n",
      "Train Epoch: 4 [6400/60000 (11%)] Loss: 0.08\n",
      "Train Epoch: 4 [12800/60000 (21%)] Loss: 0.09\n",
      "Train Epoch: 4 [19200/60000 (32%)] Loss: 0.10\n",
      "Train Epoch: 4 [25600/60000 (43%)] Loss: 0.10\n",
      "Train Epoch: 4 [32000/60000 (53%)] Loss: 0.09\n",
      "Train Epoch: 4 [38400/60000 (64%)] Loss: 0.09\n",
      "Train Epoch: 4 [44800/60000 (75%)] Loss: 0.11\n",
      "Train Epoch: 4 [51200/60000 (85%)] Loss: 0.09\n",
      "Train Epoch: 4 [57600/60000 (96%)] Loss: 0.10\n",
      "Test set: Accuracy: 9748.0/10000 (97%), Average Loss: 0.01\n"
     ]
    },
    {
     "data": {
      "image/png": "[encoded data removed]",
      "text/plain": [
       "<Figure size 432x432 with 1 Axes>"
      ]
     },
     "metadata": {
      "needs_background": "light"
     },
     "output_type": "display_data"
    }
   ],
   "source": [
    "kernelSizes=[2]\n",
    "\n",
    "for kernelSize in kernelSizes:\n",
    "    model = myCNN(kernelSize)\n",
    "    trainAccuracy, testAccuracy = train_test()\n",
    "    fig = plt.figure(figsize=(6,6))\n",
    "    row = len(kernelSizes)\n",
    "    column = 1\n",
    "    subcnt = 4\n",
    "    for i in range(1,2):\n",
    "        plt.subplot(row, column, i)\n",
    "        plt.title(\"Kernal Size\"+str(kernelSize))\n",
    "        plt.plot(trainAccuracy,'b--',label='train')\n",
    "        plt.plot(testAccuracy,'g--',label='test')\n",
    "        plt.legend()"
   ]
  },
  {
   "cell_type": "code",
   "execution_count": 117,
   "metadata": {
    "scrolled": false
   },
   "outputs": [
    {
     "name": "stdout",
     "output_type": "stream",
     "text": [
      "Train Epoch: 1 [6400/60000 (11%)] Loss: 0.54\n",
      "Train Epoch: 1 [12800/60000 (21%)] Loss: 0.19\n",
      "Train Epoch: 1 [19200/60000 (32%)] Loss: 0.17\n",
      "Train Epoch: 1 [25600/60000 (43%)] Loss: 0.14\n",
      "Train Epoch: 1 [32000/60000 (53%)] Loss: 0.13\n",
      "Train Epoch: 1 [38400/60000 (64%)] Loss: 0.12\n",
      "Train Epoch: 1 [44800/60000 (75%)] Loss: 0.11\n",
      "Train Epoch: 1 [51200/60000 (85%)] Loss: 0.12\n",
      "Train Epoch: 1 [57600/60000 (96%)] Loss: 0.11\n",
      "Test set: Accuracy: 9709.0/10000 (97%), Average Loss: 0.01\n",
      "Train Epoch: 2 [6400/60000 (11%)] Loss: 0.09\n",
      "Train Epoch: 2 [12800/60000 (21%)] Loss: 0.10\n",
      "Train Epoch: 2 [19200/60000 (32%)] Loss: 0.10\n",
      "Train Epoch: 2 [25600/60000 (43%)] Loss: 0.08\n",
      "Train Epoch: 2 [32000/60000 (53%)] Loss: 0.09\n",
      "Train Epoch: 2 [38400/60000 (64%)] Loss: 0.09\n",
      "Train Epoch: 2 [44800/60000 (75%)] Loss: 0.10\n",
      "Train Epoch: 2 [51200/60000 (85%)] Loss: 0.10\n",
      "Train Epoch: 2 [57600/60000 (96%)] Loss: 0.09\n",
      "Test set: Accuracy: 9752.0/10000 (98%), Average Loss: 0.01\n",
      "Train Epoch: 3 [6400/60000 (11%)] Loss: 0.07\n",
      "Train Epoch: 3 [12800/60000 (21%)] Loss: 0.07\n",
      "Train Epoch: 3 [19200/60000 (32%)] Loss: 0.07\n",
      "Train Epoch: 3 [25600/60000 (43%)] Loss: 0.09\n",
      "Train Epoch: 3 [32000/60000 (53%)] Loss: 0.09\n",
      "Train Epoch: 3 [38400/60000 (64%)] Loss: 0.08\n",
      "Train Epoch: 3 [44800/60000 (75%)] Loss: 0.07\n",
      "Train Epoch: 3 [51200/60000 (85%)] Loss: 0.08\n",
      "Train Epoch: 3 [57600/60000 (96%)] Loss: 0.08\n",
      "Test set: Accuracy: 9736.0/10000 (97%), Average Loss: 0.01\n",
      "Train Epoch: 4 [6400/60000 (11%)] Loss: 0.06\n",
      "Train Epoch: 4 [12800/60000 (21%)] Loss: 0.07\n",
      "Train Epoch: 4 [19200/60000 (32%)] Loss: 0.07\n",
      "Train Epoch: 4 [25600/60000 (43%)] Loss: 0.09\n",
      "Train Epoch: 4 [32000/60000 (53%)] Loss: 0.07\n",
      "Train Epoch: 4 [38400/60000 (64%)] Loss: 0.08\n",
      "Train Epoch: 4 [44800/60000 (75%)] Loss: 0.07\n",
      "Train Epoch: 4 [51200/60000 (85%)] Loss: 0.08\n",
      "Train Epoch: 4 [57600/60000 (96%)] Loss: 0.08\n",
      "Test set: Accuracy: 9774.0/10000 (98%), Average Loss: 0.01\n",
      "Train Epoch: 1 [6400/60000 (11%)] Loss: 0.56\n",
      "Train Epoch: 1 [12800/60000 (21%)] Loss: 0.18\n",
      "Train Epoch: 1 [19200/60000 (32%)] Loss: 0.15\n",
      "Train Epoch: 1 [25600/60000 (43%)] Loss: 0.13\n",
      "Train Epoch: 1 [32000/60000 (53%)] Loss: 0.12\n",
      "Train Epoch: 1 [38400/60000 (64%)] Loss: 0.11\n",
      "Train Epoch: 1 [44800/60000 (75%)] Loss: 0.10\n",
      "Train Epoch: 1 [51200/60000 (85%)] Loss: 0.09\n",
      "Train Epoch: 1 [57600/60000 (96%)] Loss: 0.10\n",
      "Test set: Accuracy: 9757.0/10000 (98%), Average Loss: 0.01\n",
      "Train Epoch: 2 [6400/60000 (11%)] Loss: 0.08\n",
      "Train Epoch: 2 [12800/60000 (21%)] Loss: 0.10\n",
      "Train Epoch: 2 [19200/60000 (32%)] Loss: 0.09\n",
      "Train Epoch: 2 [25600/60000 (43%)] Loss: 0.10\n",
      "Train Epoch: 2 [32000/60000 (53%)] Loss: 0.09\n",
      "Train Epoch: 2 [38400/60000 (64%)] Loss: 0.10\n",
      "Train Epoch: 2 [44800/60000 (75%)] Loss: 0.08\n",
      "Train Epoch: 2 [51200/60000 (85%)] Loss: 0.09\n",
      "Train Epoch: 2 [57600/60000 (96%)] Loss: 0.09\n",
      "Test set: Accuracy: 9774.0/10000 (98%), Average Loss: 0.01\n",
      "Train Epoch: 3 [6400/60000 (11%)] Loss: 0.08\n",
      "Train Epoch: 3 [12800/60000 (21%)] Loss: 0.09\n",
      "Train Epoch: 3 [19200/60000 (32%)] Loss: 0.07\n",
      "Train Epoch: 3 [25600/60000 (43%)] Loss: 0.08\n",
      "Train Epoch: 3 [32000/60000 (53%)] Loss: 0.08\n",
      "Train Epoch: 3 [38400/60000 (64%)] Loss: 0.07\n",
      "Train Epoch: 3 [44800/60000 (75%)] Loss: 0.08\n",
      "Train Epoch: 3 [51200/60000 (85%)] Loss: 0.08\n",
      "Train Epoch: 3 [57600/60000 (96%)] Loss: 0.07\n",
      "Test set: Accuracy: 9809.0/10000 (98%), Average Loss: 0.01\n",
      "Train Epoch: 4 [6400/60000 (11%)] Loss: 0.06\n",
      "Train Epoch: 4 [12800/60000 (21%)] Loss: 0.07\n",
      "Train Epoch: 4 [19200/60000 (32%)] Loss: 0.10\n",
      "Train Epoch: 4 [25600/60000 (43%)] Loss: 0.10\n",
      "Train Epoch: 4 [32000/60000 (53%)] Loss: 0.07\n",
      "Train Epoch: 4 [38400/60000 (64%)] Loss: 0.07\n",
      "Train Epoch: 4 [44800/60000 (75%)] Loss: 0.07\n",
      "Train Epoch: 4 [51200/60000 (85%)] Loss: 0.07\n",
      "Train Epoch: 4 [57600/60000 (96%)] Loss: 0.08\n",
      "Test set: Accuracy: 9760.0/10000 (98%), Average Loss: 0.01\n",
      "Train Epoch: 1 [6400/60000 (11%)] Loss: 0.57\n",
      "Train Epoch: 1 [12800/60000 (21%)] Loss: 0.19\n",
      "Train Epoch: 1 [19200/60000 (32%)] Loss: 0.15\n",
      "Train Epoch: 1 [25600/60000 (43%)] Loss: 0.12\n",
      "Train Epoch: 1 [32000/60000 (53%)] Loss: 0.12\n",
      "Train Epoch: 1 [38400/60000 (64%)] Loss: 0.11\n",
      "Train Epoch: 1 [44800/60000 (75%)] Loss: 0.11\n",
      "Train Epoch: 1 [51200/60000 (85%)] Loss: 0.10\n",
      "Train Epoch: 1 [57600/60000 (96%)] Loss: 0.09\n",
      "Test set: Accuracy: 9816.0/10000 (98%), Average Loss: 0.01\n",
      "Train Epoch: 2 [6400/60000 (11%)] Loss: 0.09\n",
      "Train Epoch: 2 [12800/60000 (21%)] Loss: 0.10\n",
      "Train Epoch: 2 [19200/60000 (32%)] Loss: 0.10\n",
      "Train Epoch: 2 [25600/60000 (43%)] Loss: 0.10\n",
      "Train Epoch: 2 [32000/60000 (53%)] Loss: 0.10\n",
      "Train Epoch: 2 [38400/60000 (64%)] Loss: 0.09\n",
      "Train Epoch: 2 [44800/60000 (75%)] Loss: 0.09\n",
      "Train Epoch: 2 [51200/60000 (85%)] Loss: 0.10\n",
      "Train Epoch: 2 [57600/60000 (96%)] Loss: 0.09\n",
      "Test set: Accuracy: 9809.0/10000 (98%), Average Loss: 0.01\n",
      "Train Epoch: 3 [6400/60000 (11%)] Loss: 0.07\n",
      "Train Epoch: 3 [12800/60000 (21%)] Loss: 0.08\n",
      "Train Epoch: 3 [19200/60000 (32%)] Loss: 0.07\n",
      "Train Epoch: 3 [25600/60000 (43%)] Loss: 0.08\n",
      "Train Epoch: 3 [32000/60000 (53%)] Loss: 0.08\n",
      "Train Epoch: 3 [38400/60000 (64%)] Loss: 0.09\n",
      "Train Epoch: 3 [44800/60000 (75%)] Loss: 0.08\n",
      "Train Epoch: 3 [51200/60000 (85%)] Loss: 0.09\n",
      "Train Epoch: 3 [57600/60000 (96%)] Loss: 0.08\n",
      "Test set: Accuracy: 9717.0/10000 (97%), Average Loss: 0.01\n",
      "Train Epoch: 4 [6400/60000 (11%)] Loss: 0.07\n",
      "Train Epoch: 4 [12800/60000 (21%)] Loss: 0.08\n",
      "Train Epoch: 4 [19200/60000 (32%)] Loss: 0.07\n",
      "Train Epoch: 4 [25600/60000 (43%)] Loss: 0.09\n",
      "Train Epoch: 4 [32000/60000 (53%)] Loss: 0.07\n",
      "Train Epoch: 4 [38400/60000 (64%)] Loss: 0.08\n",
      "Train Epoch: 4 [44800/60000 (75%)] Loss: 0.08\n",
      "Train Epoch: 4 [51200/60000 (85%)] Loss: 0.09\n",
      "Train Epoch: 4 [57600/60000 (96%)] Loss: 0.08\n",
      "Test set: Accuracy: 9722.0/10000 (97%), Average Loss: 0.01\n"
     ]
    },
    {
     "data": {
      "image/png": "[encoded data removed]",
      "text/plain": [
       "<Figure size 432x1008 with 1 Axes>"
      ]
     },
     "metadata": {
      "needs_background": "light"
     },
     "output_type": "display_data"
    },
    {
     "data": {
      "image/png": "[encoded data removed]",
      "text/plain": [
       "<Figure size 432x1008 with 1 Axes>"
      ]
     },
     "metadata": {
      "needs_background": "light"
     },
     "output_type": "display_data"
    },
    {
     "data": {
      "image/png": "[encoded data removed]",
      "text/plain": [
       "<Figure size 432x1008 with 1 Axes>"
      ]
     },
     "metadata": {
      "needs_background": "light"
     },
     "output_type": "display_data"
    }
   ],
   "source": [
    "kernelSizes=[3,4,5]\n",
    "\n",
    "for kernelSize in kernelSizes:\n",
    "    model = myCNN(kernelSize)\n",
    "    trainAccuracy, testAccuracy = train_test()\n",
    "    fig = plt.figure(figsize=(6,14))\n",
    "    row = len(kernelSizes)\n",
    "    column = 1\n",
    "    subcnt = 4\n",
    "    for i in range(1,2):\n",
    "        plt.subplot(row, column, i)\n",
    "        plt.title(\"Kernal Size\"+str(kernelSize))\n",
    "        plt.plot(trainAccuracy,'b--',label='train')\n",
    "        plt.plot(testAccuracy,'g--',label='test')\n",
    "        plt.legend()"
   ]
  },
  {
   "cell_type": "markdown",
   "metadata": {},
   "source": [
    "I felt its better to have the kernel size as  4 which gave the best output for the fever epochs as we increase the kernel size the model is getting to be over fitted and loosing the accuracy."
   ]
  }
 ],
 "metadata": {
  "kernelspec": {
   "display_name": "Python 3",
   "language": "python",
   "name": "python3"
  },
  "language_info": {
   "codemirror_mode": {
    "name": "ipython",
    "version": 3
   },
   "file_extension": ".py",
   "mimetype": "text/x-python",
   "name": "python",
   "nbconvert_exporter": "python",
   "pygments_lexer": "ipython3",
   "version": "3.7.9"
  }
 },
 "nbformat": 4,
 "nbformat_minor": 4
}
